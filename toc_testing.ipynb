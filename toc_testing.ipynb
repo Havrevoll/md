{
 "cells": [
  {
   "cell_type": "code",
   "execution_count": 1,
   "metadata": {},
   "outputs": [],
   "source": [
    "from pathlib import Path"
   ]
  },
  {
   "cell_type": "code",
   "execution_count": 2,
   "metadata": {},
   "outputs": [],
   "source": [
    "fil = Path(\"bin_files/toc_joined_.bin\")\n",
    "with open(fil, 'rb')  as f:\n",
    "    data = bytearray(f.read())"
   ]
  },
  {
   "cell_type": "code",
   "execution_count": 3,
   "metadata": {},
   "outputs": [],
   "source": [
    "number_of_tracks = data[0x1f]\n",
    "next_track_number = data[0x2f]\n",
    "freemap = data[0x30]\n",
    "track_start_fragments = []\n",
    "for i in range(number_of_tracks):\n",
    "    track_start_fragments.append(data[0x31+i])"
   ]
  },
  {
   "cell_type": "code",
   "execution_count": 5,
   "metadata": {},
   "outputs": [
    {
     "name": "stdout",
     "output_type": "stream",
     "text": [
      "bytearray(b'\\x0ct\\x00\\xa2\\rq7\\x00')\n",
      "bytearray(b'\\rx\\x00\\xa2\\x0eY\\x04\\x00')\n",
      "bytearray(b'\\x05(\\x00\\xa2\\x06,Z\\x00')\n",
      "bytearray(b'\\x13\\x00\\x00\\xa2\\x13\\xd1\\x83\\x00')\n",
      "bytearray(b'\\x13\\xd8\\x00\\xa2\\x14\\xa1\\x84\\x00')\n",
      "bytearray(b'\\x14\\xa8\\x00\\xa2\\x15\\xc1\\xc4\\x00')\n",
      "bytearray(b'\\x15\\xc8\\x00\\xa2\\x16\\xb5\\xf9\\x00')\n",
      "bytearray(b'\\x17\\xec\\x00\\xa2\\x18\\xd4\\x82\\x00')\n",
      "bytearray(b'\\x18\\xdc\\x00\\xa2\\x19\\xd1E\\x00')\n",
      "bytearray(b'\\x19\\xd8\\x00\\xa2\\x1a\\xc9C\\x00')\n",
      "bytearray(b'\\x1a\\xd0\\x00\\xa2\\x1b\\xe5\\xfa\\x00')\n",
      "bytearray(b'\\x1c\\xe0\\x00\\xa2\\x1d\\xa5\\xa5\\x00')\n",
      "bytearray(b'\\x1d\\xac\\x00\\xa2\\x1e\\x80\\x98\\x00')\n",
      "bytearray(b'\\x1e\\x88\\x00\\xa2\\x1fl%\\x00')\n",
      "bytearray(b'\\x1ft\\x00\\xa2 \\x88#\\x00')\n",
      "bytearray(b' \\x90\\x00\\xa2!t\\xe2\\x00')\n",
      "bytearray(b'\\x00\\xc8\\x00\\xa2\\x05!\\xfa\\xff')\n"
     ]
    }
   ],
   "source": [
    "fragments = []\n",
    "fragment_start = 0x130\n",
    "for i in track_start_fragments:\n",
    "    print(data[fragment_start + i*8:fragment_start + i*8+8])\n"
   ]
  },
  {
   "cell_type": "code",
   "execution_count": 4,
   "metadata": {},
   "outputs": [
    {
     "data": {
      "text/plain": [
       "[17, 18, 5, 24, 25, 26, 27, 29, 30, 31, 32, 34, 35, 36, 37, 38, 39]"
      ]
     },
     "execution_count": 4,
     "metadata": {},
     "output_type": "execute_result"
    }
   ],
   "source": [
    "track_start_fragments"
   ]
  },
  {
   "cell_type": "code",
   "execution_count": null,
   "metadata": {},
   "outputs": [],
   "source": []
  }
 ],
 "metadata": {
  "kernelspec": {
   "display_name": "usb",
   "language": "python",
   "name": "python3"
  },
  "language_info": {
   "codemirror_mode": {
    "name": "ipython",
    "version": 3
   },
   "file_extension": ".py",
   "mimetype": "text/x-python",
   "name": "python",
   "nbconvert_exporter": "python",
   "pygments_lexer": "ipython3",
   "version": "3.12.0"
  }
 },
 "nbformat": 4,
 "nbformat_minor": 2
}
