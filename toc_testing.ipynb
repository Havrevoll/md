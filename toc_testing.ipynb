{
 "cells": [
  {
   "cell_type": "code",
   "execution_count": 1,
   "metadata": {},
   "outputs": [],
   "source": [
    "from pathlib import Path"
   ]
  },
  {
   "cell_type": "code",
   "execution_count": 2,
   "metadata": {},
   "outputs": [],
   "source": [
    "fil = Path(\"bin_files/toc_to album______.bin\")\n",
    "with open(fil, 'rb')  as f:\n",
    "    data = bytearray(f.read())"
   ]
  },
  {
   "cell_type": "code",
   "execution_count": 7,
   "metadata": {},
   "outputs": [],
   "source": [
    "number_of_tracks = data[0x1f]\n",
    "next_track_number = data[0x2f]\n",
    "freemap = data[0x30]\n",
    "track_start_fragments = []\n",
    "for i in range(number_of_tracks):\n",
    "    track_start_fragments.append(data[0x31+i])"
   ]
  },
  {
   "cell_type": "code",
   "execution_count": 8,
   "metadata": {},
   "outputs": [
    {
     "name": "stdout",
     "output_type": "stream",
     "text": [
      "bytearray(b'\\x00\\xc8\\x00\\xa2\\r\\x99\\xd9\\x00')\n",
      "bytearray(b'\\r\\xa0\\x00\\xa2\\x1dQ\\xa3\\x00')\n",
      "bytearray(b'\\x1dX\\x00\\xa2\\x1e$\\xc3\\x00')\n",
      "bytearray(b'\\x1e,\\x00\\xa6\\x1f\\xc5\\x84\\x00')\n"
     ]
    }
   ],
   "source": [
    "fragments = []\n",
    "fragment_start = 0x130\n",
    "for i in track_start_fragments:\n",
    "    print(data[fragment_start + i*8:fragment_start + i*8+8])"
   ]
  },
  {
   "cell_type": "code",
   "execution_count": null,
   "metadata": {},
   "outputs": [],
   "source": []
  }
 ],
 "metadata": {
  "kernelspec": {
   "display_name": "usb",
   "language": "python",
   "name": "python3"
  },
  "language_info": {
   "codemirror_mode": {
    "name": "ipython",
    "version": 3
   },
   "file_extension": ".py",
   "mimetype": "text/x-python",
   "name": "python",
   "nbconvert_exporter": "python",
   "pygments_lexer": "ipython3",
   "version": "3.11.5"
  }
 },
 "nbformat": 4,
 "nbformat_minor": 2
}
